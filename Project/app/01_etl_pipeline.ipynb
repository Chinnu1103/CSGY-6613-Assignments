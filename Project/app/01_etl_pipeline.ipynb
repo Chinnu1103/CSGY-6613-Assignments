{
 "cells": [
  {
   "cell_type": "markdown",
   "metadata": {},
   "source": [
    "# ETL Milestone"
   ]
  },
  {
   "cell_type": "markdown",
   "metadata": {},
   "source": [
    "### Import necessary libraries and initialize variables"
   ]
  },
  {
   "cell_type": "code",
   "execution_count": 1,
   "metadata": {},
   "outputs": [],
   "source": [
    "from pipelines import GitHubPipeline, YouTubePipeline, MediumPipeline, LinkedInPipeline\n",
    "from clearml import Task\n",
    "import logging\n",
    "import os"
   ]
  },
  {
   "cell_type": "code",
   "execution_count": 2,
   "metadata": {},
   "outputs": [],
   "source": [
    "# Set logging level to info\n",
    "logging.basicConfig(level=logging.INFO)"
   ]
  },
  {
   "cell_type": "code",
   "execution_count": 3,
   "metadata": {},
   "outputs": [
    {
     "name": "stdout",
     "output_type": "stream",
     "text": [
      "env: CLEARML_WEB_HOST=http://webserver:8080/\n",
      "env: CLEARML_API_HOST=http://apiserver:8008\n",
      "env: CLEARML_FILES_HOST=http://fileserver:8081\n",
      "env: CLEARML_API_ACCESS_KEY=WOLAKOQGPNE6UYI1O3MGC57ZLNX7IN\n",
      "env: CLEARML_API_SECRET_KEY=JTD4z46ycq_VRIlG60rRPAdE2kkjd1O4jtHWTvhVmiRKvg82MKV-YfoeNIgX12bNuIQ\n"
     ]
    }
   ],
   "source": [
    "%env CLEARML_WEB_HOST=http://webserver:8080/\n",
    "%env CLEARML_API_HOST=http://apiserver:8008\n",
    "%env CLEARML_FILES_HOST=http://fileserver:8081\n",
    "%env CLEARML_API_ACCESS_KEY=WOLAKOQGPNE6UYI1O3MGC57ZLNX7IN\n",
    "%env CLEARML_API_SECRET_KEY=JTD4z46ycq_VRIlG60rRPAdE2kkjd1O4jtHWTvhVmiRKvg82MKV-YfoeNIgX12bNuIQ"
   ]
  },
  {
   "cell_type": "markdown",
   "metadata": {},
   "source": [
    "### Define and run the Pipeline class to pull code from each source"
   ]
  },
  {
   "cell_type": "code",
   "execution_count": 4,
   "metadata": {},
   "outputs": [],
   "source": [
    "class ETLPipeline:\n",
    "    def __init__(self) -> None:\n",
    "        self.add_parameters()\n",
    "\n",
    "    def add_parameters(self):\n",
    "        #Initialize mongo db and github token\n",
    "        self.mongodb_uri = 'mongodb://mongo:27017/'\n",
    "        self.db_name = 'ros2_docs'\n",
    "        self.github_token = os.getenv('GITHUB_TOKEN')\n",
    "\n",
    "    def run_etl_pipeline(self, pipeline_name, mongodb_uri, db_name, github_token=None):\n",
    "        #Initialize task for current scraping source\n",
    "        task = Task.init(project_name=\"ROS2 RAG System\", task_name=f\"ETL - {pipeline_name}\", task_type=Task.TaskTypes.data_processing)\n",
    "        logger = task.get_logger()\n",
    "\n",
    "        #Get the pipeline object depending on the source\n",
    "        if pipeline_name == \"GitHubPipeline\":\n",
    "            pipeline = GitHubPipeline(mongodb_uri, db_name, github_token)\n",
    "        elif pipeline_name == \"YouTubePipeline\":\n",
    "            pipeline = YouTubePipeline(mongodb_uri, db_name)\n",
    "        elif pipeline_name == \"MediumPipeline\":\n",
    "            pipeline = MediumPipeline(mongodb_uri, db_name)\n",
    "        elif pipeline_name == \"LinkedInPipeline\":\n",
    "            pipeline = LinkedInPipeline(mongodb_uri, db_name)\n",
    "        else:\n",
    "            raise ValueError(f\"Unknown pipeline: {pipeline_name}\")\n",
    "\n",
    "        try:\n",
    "            #Perform ETL\n",
    "            logging.info(f\"Running {pipeline_name}\")\n",
    "            logger.report_text(f\"Starting pipeline: {pipeline_name}\")\n",
    "            pipeline.extract_and_transform_and_load()\n",
    "            logger.report_text(f\"Successfully completed pipeline: {pipeline_name}\")\n",
    "\n",
    "            # Return the urls that were scraped\n",
    "            urls = [doc[\"url\"] for doc in pipeline.collection.find()]\n",
    "            file_name = f\"{pipeline_name}_urls.txt\"\n",
    "            with open(file_name, \"w\") as f:\n",
    "                f.write(\"\\n\".join(urls))\n",
    "            \n",
    "            #Upload artifact to clearml server\n",
    "            logger.report_text(f\"URLs saved to {file_name}\")\n",
    "            task.upload_artifact(\"Top URLs\", artifact_object=file_name)\n",
    "\n",
    "            return {\"count\": len(urls), \"top\": urls[:10]}\n",
    "\n",
    "        except Exception as e:\n",
    "            logger.report_text(f\"Error in pipeline {pipeline_name}: {e}\")\n",
    "            logging.error(f\"Error in {pipeline_name}: {e}\", exc_info=True)\n",
    "\n",
    "        finally:\n",
    "            task.close()\n",
    "\n",
    "    def run_all_pipelines(self):\n",
    "        all_urls = {}\n",
    "        \n",
    "        # Run each pipeline with the appropriate parameters\n",
    "        all_urls['GitHub'] = self.run_etl_pipeline(\"GitHubPipeline\", self.mongodb_uri, self.db_name, self.github_token)\n",
    "        all_urls['YouTube'] = self.run_etl_pipeline(\"YouTubePipeline\", self.mongodb_uri, self.db_name)\n",
    "        all_urls['Medium'] = self.run_etl_pipeline(\"MediumPipeline\", self.mongodb_uri, self.db_name)\n",
    "        all_urls['LinkedIn'] = self.run_etl_pipeline(\"LinkedInPipeline\", self.mongodb_uri, self.db_name)\n",
    "        \n",
    "        return all_urls"
   ]
  },
  {
   "cell_type": "markdown",
   "metadata": {},
   "source": [
    "Run the ETL pipeline for all sources"
   ]
  },
  {
   "cell_type": "code",
   "execution_count": 5,
   "metadata": {},
   "outputs": [
    {
     "name": "stdout",
     "output_type": "stream",
     "text": [
      "ClearML Task: created new task id=7d475db36ac446c9bf4f6bfb6a9da30f\n",
      "ClearML results page: http://webserver:8080/projects/e54dc86522f8446889c50edbdf493bef/experiments/7d475db36ac446c9bf4f6bfb6a9da30f/output/log\n",
      "CLEARML-SERVER new package available: UPGRADE to v1.17.0 is recommended!\n",
      "Release Notes:\n",
      "### New Features \n",
      "- New ClearML Model dashboard: View all live model endpoints in a single location, complete with real time metrics reporting.\n",
      "- New UI pipeline run table comparative view: compare plots and scalars of selected pipeline runs\n",
      "- Improve services agent behavior: If no credentials are specified, agent uses default credentials ([ClearML Server GitHub issue #140](https://github.com/allegroai/clearml-server/issues/140))\n",
      "- Add UI re-enqueue of failed tasks\n",
      "- Add UI experiment scalar results table view\n",
      "- Add \"Block running user's scripts in the browser\" UI setting option for added security\n",
      "- Add UI \"Reset\" to set task installed packages to originally recorded values \n",
      "- Add UI edit of default Project default output destination\n",
      "\n",
      "### Bug Fixes\n",
      "- Fix broken download links to artifacts stored in Azure ([ClearML Server GitHub issue #247](https://github.com/allegroai/clearml-server/issues/247))\n",
      "- Fix Cross-site Scripting (XSS) vulnerability (CWE-79)\n",
      "- Fix UI experiment textual comparison diff showing contextual diffs as different contents ([ClearML GitHub issue #646](https://github.com/allegroai/clearml/issues/646))\n",
      "- Fix UI experiment comparison does not overlay box plots and histograms ([ClearML GitHub issue #1298](https://github.com/allegroai/clearml/issues/1298))\n",
      "- Fix UI plots display “Iteration 0” when it is the only reported iteration ([ClearML GitHub issue #1267](https://github.com/allegroai/clearml/issues/1267))\n",
      "- Fix scalar series starting with angle bracket (`<`) causes UI scalar plot legend to display raw html  ([ClearML GitHub issue #1292](https://github.com/allegroai/clearml/issues/1292))\n",
      "- Fix UI scalar plot not displayed if metric name includes a slash surrounded by spaces (` / `)\n",
      "- Fix Model API calls fail when its creating task has been deleted ([ClearML GitHub issue #1299](https://github.com/allegroai/clearml/issues/1299))\n",
      "- Fix UI experiment debug samples disappear while task is running ([ClearMLGitHub issue #1259](https://github.com/allegroai/clearml/issues/1259))\n",
      "- Fix UI pipeline DAG display to be \"bottom-up\" so all final steps appear in the bottom of the diagram ([ClearML Web GitHub PR #86](https://github.com/allegroai/clearml-web/pull/86))\n",
      "- Fix invalid mongodb connection string if `CLEARML_MONGODB_SERVICE_CONNECTION_STRING` is specified ([ClearML Server GitHub issue #252](https://github.com/allegroai/clearml-server/issues/252))\n",
      "- Fix auto-refresh modifies UI experiment debug sample view ([ClearML GitHub issue #1529](https://github.com/allegroai/clearml/issues/1529))\n",
      "- Fix UI image plot retrieval from fileserver missing authentication cookie ([ClearML GitHub issue #1331](https://github.com/allegroai/clearml/issues/1331))\n",
      "- Fix pipeline run version not set when re-executed via the UI\n",
      "- Fix metric and hyperparameter group string not searchable in UI table \n",
      "- Fix UI model hidden plot selection does not persist upon refresh\n",
      "- Fix deleting large number of experiments via UI not working properly\n",
      "- Fix experiment name legend not displayed in UI experiment plot comparison \n",
      "- Fix archiving pipeline run does not abort pipeline step tasks\n",
      "- Fix \"Restore\" and \"Delete\" buttons missing from UI experiment archive action bar\n",
      "- Fix UI experiment debug sample viewer sometimes displays incorrect sample\n",
      "- Fix UI Settings' Configuration section does not display indication that the number of credentials limit has been reached\n",
      "- Fix Hydra parameters not displaying correctly in UI experiment comparison parallel coordinates plot\n",
      "- Fix UI Reports image upload not working\n",
      "- Fix iteration number not displayed in titles of confusion matrix and table plots in UI experiment comparison\n",
      "- Fix \"Create new\" option not displaying when inputting project name in UI Report creation modal\n",
      "- Fix UI experiment requires Git information when repository isn't set\n",
      "- Fix moving an enqueued experiment to a new UI queue results in error \n",
      "- Fix modifying UI experiment input models does not work\n",
      "2024-12-07 16:26:44,007 - clearml.Task - INFO - Storing jupyter notebook directly as code\n"
     ]
    },
    {
     "name": "stderr",
     "output_type": "stream",
     "text": [
      "INFO:root:Running GitHubPipeline\n",
      "INFO:root:Starting to extract GitHub repositories\n",
      "INFO:root:Processing source: ros2/ros2_documentation\n"
     ]
    },
    {
     "name": "stdout",
     "output_type": "stream",
     "text": [
      "Starting pipeline: GitHubPipeline\n"
     ]
    },
    {
     "name": "stderr",
     "output_type": "stream",
     "text": [
      "INFO:root:Temporary directory created - /tmp/tmptphb02hq\n",
      "INFO:root:Fetching all files in repository\n"
     ]
    },
    {
     "name": "stdout",
     "output_type": "stream",
     "text": [
      "ClearML Monitor: GPU monitoring failed getting GPU reading, switching off GPU monitoring\n"
     ]
    },
    {
     "name": "stderr",
     "output_type": "stream",
     "text": [
      "INFO:root:Found 271 files in current repo\n",
      "INFO:root:Converting RST Files to HTML\n",
      "INFO:root:Completed Conversion\n",
      "Inserting Data: 100%|██████████| 273/273 [00:00<00:00, 288.60it/s]            \n",
      "INFO:root:Processing source: moveit/moveit2_tutorials\n",
      "INFO:root:Temporary directory created - /tmp/tmp7n3e8et3\n",
      "INFO:root:Fetching all files in repository\n"
     ]
    },
    {
     "name": "stdout",
     "output_type": "stream",
     "text": [
      "ClearML Monitor: Could not detect iteration reporting, falling back to iterations as seconds-from-start\n"
     ]
    },
    {
     "name": "stderr",
     "output_type": "stream",
     "text": [
      "INFO:root:Found 85 files in current repo\n",
      "INFO:root:Converting RST Files to HTML\n",
      "INFO:root:Completed Conversion\n",
      "Inserting Data: 100%|██████████| 87/87 [00:00<00:00, 89.23it/s]             \n",
      "INFO:root:Processing source: gazebosim/docs\n",
      "INFO:root:Temporary directory created - /tmp/tmp86ce23d_\n",
      "INFO:root:Fetching all files in repository\n",
      "INFO:root:Found 238 files in current repo\n",
      "Inserting Data: 100%|██████████| 238/238 [00:00<00:00, 251.88it/s]\n",
      "INFO:root:Processing source: ros-navigation/docs.nav2.org\n",
      "INFO:root:Temporary directory created - /tmp/tmp6d81g37d\n",
      "INFO:root:Fetching all files in repository\n",
      "INFO:root:Found 206 files in current repo\n",
      "INFO:root:Converting RST Files to HTML\n",
      "INFO:root:Completed Conversion\n",
      "Inserting Data: 100%|██████████| 208/208 [00:00<00:00, 487.75it/s]            \n"
     ]
    },
    {
     "name": "stdout",
     "output_type": "stream",
     "text": [
      "Successfully completed pipeline: GitHubPipeline\n",
      "URLs saved to GitHubPipeline_urls.txt\n",
      "ClearML Task: created new task id=64459c65c5c64e839917c1df93699154\n",
      "ClearML results page: http://webserver:8080/projects/e54dc86522f8446889c50edbdf493bef/experiments/64459c65c5c64e839917c1df93699154/output/log\n"
     ]
    },
    {
     "name": "stderr",
     "output_type": "stream",
     "text": [
      "INFO:root:Running YouTubePipeline\n",
      "INFO:root:Starting YouTube ROS Documentation Transcript Pipeline\n"
     ]
    },
    {
     "name": "stdout",
     "output_type": "stream",
     "text": [
      "Starting pipeline: YouTubePipeline\n"
     ]
    },
    {
     "name": "stderr",
     "output_type": "stream",
     "text": [
      "Search Terms:   0%|          | 0/6 [00:00<?, ?it/s]INFO:root:Searching YouTube for: ROS2 Tutorial\n"
     ]
    },
    {
     "name": "stdout",
     "output_type": "stream",
     "text": [
      "ClearML Monitor: GPU monitoring failed getting GPU reading, switching off GPU monitoring\n"
     ]
    },
    {
     "name": "stderr",
     "output_type": "stream",
     "text": [
      "INFO:root:Processed 4 videos for term - ROS2 Tutorial\n",
      "Search Terms:  17%|█▋        | 1/6 [00:08<00:41,  8.37s/it]INFO:root:Searching YouTube for: ROS Robot Operating System Documentation\n",
      "INFO:root:Processed 11 videos for term - ROS Robot Operating System Documentation\n",
      "Search Terms:  33%|███▎      | 2/6 [00:21<00:44, 11.21s/it]INFO:root:Searching YouTube for: ROS Programming Explained\n",
      "INFO:root:Processed 9 videos for term - ROS Programming Explained\n",
      "Search Terms:  50%|█████     | 3/6 [00:35<00:37, 12.48s/it]INFO:root:Searching YouTube for: ROS Robotics Tutorials\n",
      "INFO:root:Processed 6 videos for term - ROS Robotics Tutorials\n",
      "Search Terms:  67%|██████▋   | 4/6 [00:43<00:21, 10.59s/it]INFO:root:Searching YouTube for: ROS Navigation Stack\n",
      "INFO:root:Processed 12 videos for term - ROS Navigation Stack\n",
      "Search Terms:  83%|████████▎ | 5/6 [01:01<00:13, 13.19s/it]INFO:root:Searching YouTube for: ROS Perception Tutorial\n",
      "INFO:root:Processed 9 videos for term - ROS Perception Tutorial\n",
      "Search Terms: 100%|██████████| 6/6 [01:11<00:00, 11.94s/it]\n"
     ]
    },
    {
     "name": "stdout",
     "output_type": "stream",
     "text": [
      "Successfully completed pipeline: YouTubePipeline\n",
      "URLs saved to YouTubePipeline_urls.txt\n",
      "ClearML Task: created new task id=b2391bbfaf4542eba231bc7432074508\n",
      "ClearML results page: http://webserver:8080/projects/e54dc86522f8446889c50edbdf493bef/experiments/b2391bbfaf4542eba231bc7432074508/output/log\n"
     ]
    },
    {
     "name": "stderr",
     "output_type": "stream",
     "text": [
      "INFO:root:Running MediumPipeline\n"
     ]
    },
    {
     "name": "stdout",
     "output_type": "stream",
     "text": [
      "Starting pipeline: MediumPipeline\n",
      "ClearML Monitor: GPU monitoring failed getting GPU reading, switching off GPU monitoring\n"
     ]
    },
    {
     "name": "stderr",
     "output_type": "stream",
     "text": [
      "INFO:root:Scrolling page\n",
      "Scroll count: 100%|██████████| 20/20 [01:06<00:00,  3.30s/it]\n",
      "Article Parsing Progress: 100%|██████████| 60/60 [00:32<00:00,  1.83it/s]\n",
      "Data Insert: 100%|██████████| 60/60 [00:02<00:00, 25.74it/s]\n"
     ]
    },
    {
     "name": "stdout",
     "output_type": "stream",
     "text": [
      "Successfully completed pipeline: MediumPipeline\n",
      "URLs saved to MediumPipeline_urls.txt\n",
      "ClearML Task: created new task id=2f62cfb5bec34e09afbdb87531fb32bb\n",
      "ClearML results page: http://webserver:8080/projects/e54dc86522f8446889c50edbdf493bef/experiments/2f62cfb5bec34e09afbdb87531fb32bb/output/log\n"
     ]
    },
    {
     "name": "stderr",
     "output_type": "stream",
     "text": [
      "INFO:root:Running LinkedInPipeline\n"
     ]
    },
    {
     "name": "stdout",
     "output_type": "stream",
     "text": [
      "Starting pipeline: LinkedInPipeline\n",
      "ClearML Monitor: GPU monitoring failed getting GPU reading, switching off GPU monitoring\n"
     ]
    },
    {
     "name": "stderr",
     "output_type": "stream",
     "text": [
      "Article Processing Progress: 100%|██████████| 100/100 [02:30<00:00,  1.50s/it]\n"
     ]
    },
    {
     "name": "stdout",
     "output_type": "stream",
     "text": [
      "Successfully completed pipeline: LinkedInPipeline\n",
      "URLs saved to LinkedInPipeline_urls.txt\n"
     ]
    }
   ],
   "source": [
    "etl = ETLPipeline()\n",
    "all_urls = etl.run_all_pipelines()"
   ]
  },
  {
   "cell_type": "markdown",
   "metadata": {},
   "source": [
    "## Total URLs parsed:"
   ]
  },
  {
   "cell_type": "code",
   "execution_count": 10,
   "metadata": {},
   "outputs": [
    {
     "name": "stdout",
     "output_type": "stream",
     "text": [
      "1017 urls parsed and stored in database!\n"
     ]
    }
   ],
   "source": [
    "total_count = sum([all_urls[source]['count'] for source in all_urls])\n",
    "print(f\"{total_count} urls parsed and stored in database!\")"
   ]
  },
  {
   "cell_type": "markdown",
   "metadata": {},
   "source": [
    "### Print the scraped information for each source"
   ]
  },
  {
   "cell_type": "code",
   "execution_count": 14,
   "metadata": {},
   "outputs": [
    {
     "name": "stdout",
     "output_type": "stream",
     "text": [
      "The total number of urls scraped for GitHub: 806\n",
      "Sample URLs scraped: \n",
      "['https://github.com/ros2/ros2_documentation/tree/jazzy/../source/build/How-To-Guides.rst', 'https://github.com/ros2/ros2_documentation/tree/jazzy/../source/build/Related-Projects.rst', 'https://github.com/ros2/ros2_documentation/tree/jazzy/../source/build/The-ROS2-Project.rst', 'https://github.com/ros2/ros2_documentation/tree/jazzy/../source/build/Tutorials.rst', 'https://github.com/ros2/ros2_documentation/tree/jazzy/../source/build/Installation.rst', 'https://github.com/ros2/ros2_documentation/tree/jazzy/../source/build/Releases.rst', 'https://github.com/ros2/ros2_documentation/tree/jazzy/../source/build/Package-Docs.rst', 'https://github.com/ros2/ros2_documentation/tree/jazzy/../source/build/index.rst', 'https://github.com/ros2/ros2_documentation/tree/jazzy/../source/build/search.rst', 'https://github.com/ros2/ros2_documentation/tree/jazzy/../source/build/Contact.rst']\n"
     ]
    }
   ],
   "source": [
    "#GitHub\n",
    "count = all_urls['GitHub']['count']\n",
    "top = all_urls['GitHub']['top']\n",
    "print(f\"The total number of urls scraped for GitHub: {count}\")\n",
    "print(\"Sample URLs scraped: \")\n",
    "print(top)"
   ]
  },
  {
   "cell_type": "code",
   "execution_count": 15,
   "metadata": {},
   "outputs": [
    {
     "name": "stdout",
     "output_type": "stream",
     "text": [
      "The total number of urls scraped for Medium: 60\n",
      "Sample URLs scraped: \n",
      "['https://medium.com/@robofoundry/trying-out-ros2-jazzy-jalisco-in-10-mins-177ad6bcbed2?source=tag_recommended_stories_page------ros2---0-84--------------------7a26b50a_abf8_4e52_8f3b_c9b4e5095595-------', 'https://medium.com/@antonioconsiglio/integrating-orb-slam3-with-ros2-humble-on-raspberry-pi-5-a-step-by-step-guide-78e7b911c361?source=tag_recommended_stories_page------ros2---1-85--------------------7a26b50a_abf8_4e52_8f3b_c9b4e5095595-------', 'https://medium.com/@myequation/why-ros-is-the-lifeline-of-every-engineer-d9c137103de6?source=tag_recommended_stories_page------ros2---2-84--------------------7a26b50a_abf8_4e52_8f3b_c9b4e5095595-------', 'https://medium.com/@tfoldi/ros-2-live-depth-cam-point-cloud-visualization-with-rerun-66534561557a?source=tag_recommended_stories_page------ros2---3-85--------------------7a26b50a_abf8_4e52_8f3b_c9b4e5095595-------', 'https://medium.com/@psreeram/building-a-home-service-robot-a-learning-journey-part-3-f326af7c8e2d?source=tag_recommended_stories_page------ros2---4-84--------------------7a26b50a_abf8_4e52_8f3b_c9b4e5095595-------', 'https://medium.com/@antonioconsiglio/how-to-install-ros2-humble-on-raspberry-pi-5-and-enable-communication-with-esp32-via-micro-ros-2d30dfcf2111?source=tag_recommended_stories_page------ros2---5-85--------------------7a26b50a_abf8_4e52_8f3b_c9b4e5095595-------', 'https://medium.com/@shashank-goyal-blogs/ros2-humble-gui-docker-container-a-step-by-step-guide-c541b73fe141?source=tag_recommended_stories_page------ros2---6-84--------------------7a26b50a_abf8_4e52_8f3b_c9b4e5095595-------', 'https://medium.com/@kabilankb2003/integrating-ros-2-and-opencv-for-object-detection-using-turtlebot3-3cce2404334e?source=tag_recommended_stories_page------ros2---7-85--------------------7a26b50a_abf8_4e52_8f3b_c9b4e5095595-------', 'https://medium.com/@marinachau/how-to-create-audio-custom-messages-with-ros2-and-python-part-2-1ec3c9442f1f?source=tag_recommended_stories_page------ros2---8-84--------------------7a26b50a_abf8_4e52_8f3b_c9b4e5095595-------', 'https://medium.com/@mandolkarmakarand94/key-points-google-c-style-guide-ace14236ecdf?source=tag_recommended_stories_page------ros2---9-85--------------------7a26b50a_abf8_4e52_8f3b_c9b4e5095595-------']\n"
     ]
    }
   ],
   "source": [
    "#Medium\n",
    "count = all_urls['Medium']['count']\n",
    "top = all_urls['Medium']['top']\n",
    "print(f\"The total number of urls scraped for Medium: {count}\")\n",
    "print(\"Sample URLs scraped: \")\n",
    "print(top)"
   ]
  },
  {
   "cell_type": "code",
   "execution_count": 16,
   "metadata": {},
   "outputs": [
    {
     "name": "stdout",
     "output_type": "stream",
     "text": [
      "The total number of urls scraped for YouTube: 51\n",
      "Sample URLs scraped: \n",
      "['https://www.youtube.com/watch?v=7TVWlADXwRw&pp=ygUNUk9TMiBUdXRvcmlhbA%3D%3D', 'https://www.youtube.com/watch?v=Gg25GfA456o&pp=ygUNUk9TMiBUdXRvcmlhbA%3D%3D', 'https://www.youtube.com/watch?v=idQb2pB-h2Q&t=291s&pp=ygUNUk9TMiBUdXRvcmlhbA%3D%3D', 'https://www.youtube.com/watch?v=GHb6Wr_exxI&pp=ygUNUk9TMiBUdXRvcmlhbA%3D%3D', 'https://www.youtube.com/watch?v=96XsJ7xfsS8&pp=ygUoUk9TIFJvYm90IE9wZXJhdGluZyBTeXN0ZW0gRG9jdW1lbnRhdGlvbg%3D%3D', 'https://www.youtube.com/watch?v=N6K2LWG2kRI&pp=ygUoUk9TIFJvYm90IE9wZXJhdGluZyBTeXN0ZW0gRG9jdW1lbnRhdGlvbg%3D%3D', 'https://www.youtube.com/watch?v=7TVWlADXwRw&pp=ygUoUk9TIFJvYm90IE9wZXJhdGluZyBTeXN0ZW0gRG9jdW1lbnRhdGlvbg%3D%3D', 'https://www.youtube.com/watch?v=MWKnMPX0Yjg&pp=ygUoUk9TIFJvYm90IE9wZXJhdGluZyBTeXN0ZW0gRG9jdW1lbnRhdGlvbg%3D%3D', 'https://www.youtube.com/watch?v=8QfI5a7lTKU&pp=ygUoUk9TIFJvYm90IE9wZXJhdGluZyBTeXN0ZW0gRG9jdW1lbnRhdGlvbg%3D%3D', 'https://www.youtube.com/watch?v=LyC9RAYE96M&pp=ygUoUk9TIFJvYm90IE9wZXJhdGluZyBTeXN0ZW0gRG9jdW1lbnRhdGlvbg%3D%3D']\n"
     ]
    }
   ],
   "source": [
    "#YouTube\n",
    "count = all_urls['YouTube']['count']\n",
    "top = all_urls['YouTube']['top']\n",
    "print(f\"The total number of urls scraped for YouTube: {count}\")\n",
    "print(\"Sample URLs scraped: \")\n",
    "print(top)"
   ]
  },
  {
   "cell_type": "code",
   "execution_count": 17,
   "metadata": {},
   "outputs": [
    {
     "name": "stdout",
     "output_type": "stream",
     "text": [
      "The total number of urls scraped for LinkedIn: 100\n",
      "Sample URLs scraped: \n",
      "['https://www.linkedin.com/advice/0/how-can-you-diagnose-fix-ros-problems-roswtf-skills-ros', 'https://www.linkedin.com/advice/3/what-benefits-getting-ros-certification-your-career-skills-ros', 'https://www.linkedin.com/advice/1/what-steps-use-ros-navigation-tools-skills-ros', 'https://www.linkedin.com/advice/1/how-do-you-optimize-ros-performance-version-management-skills-ros', 'https://www.linkedin.com/advice/0/how-can-you-link-ros-other-systems-skills-ros', 'https://www.linkedin.com/advice/3/how-can-you-teach-ros-robotics-professionals-students-skills-ros', 'https://www.linkedin.com/advice/3/what-pros-cons-using-slam-navigation-skills-ros', 'https://www.linkedin.com/advice/0/how-can-you-navigate-mobile-robots-autonomously-ros-skills-ros', 'https://www.linkedin.com/advice/0/how-can-you-use-ros-3d-perception-skills-ros', 'https://www.linkedin.com/advice/0/how-can-you-avoid-common-ros-package-library-errors-skills-ros']\n"
     ]
    }
   ],
   "source": [
    "#LinkedIn\n",
    "count = all_urls['LinkedIn']['count']\n",
    "top = all_urls['LinkedIn']['top']\n",
    "print(f\"The total number of urls scraped for LinkedIn: {count}\")\n",
    "print(\"Sample URLs scraped: \")\n",
    "print(top)"
   ]
  }
 ],
 "metadata": {
  "kernelspec": {
   "display_name": "Python 3",
   "language": "python",
   "name": "python3"
  },
  "language_info": {
   "codemirror_mode": {
    "name": "ipython",
    "version": 3
   },
   "file_extension": ".py",
   "mimetype": "text/x-python",
   "name": "python",
   "nbconvert_exporter": "python",
   "pygments_lexer": "ipython3",
   "version": "3.10.11"
  }
 },
 "nbformat": 4,
 "nbformat_minor": 2
}
